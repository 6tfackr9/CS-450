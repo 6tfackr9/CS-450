{
  "nbformat": 4,
  "nbformat_minor": 0,
  "metadata": {
    "colab": {
      "name": "Prove05.ipynb",
      "provenance": [],
      "authorship_tag": "ABX9TyNoEXCLBbNMyXQhf58l4Qbz",
      "include_colab_link": true
    },
    "kernelspec": {
      "name": "python3",
      "display_name": "Python 3"
    }
  },
  "cells": [
    {
      "cell_type": "markdown",
      "metadata": {
        "id": "view-in-github",
        "colab_type": "text"
      },
      "source": [
        "<a href=\"https://colab.research.google.com/github/6tfackr9/CS-450/blob/master/Neural%20Network%20Assignment.ipynb\" target=\"_parent\"><img src=\"https://colab.research.google.com/assets/colab-badge.svg\" alt=\"Open In Colab\"/></a>"
      ]
    },
    {
      "cell_type": "code",
      "metadata": {
        "id": "Sxyhs5A4Re7_",
        "colab_type": "code",
        "colab": {}
      },
      "source": [
        "import pandas as pd\n",
        "from sklearn.model_selection import train_test_split\n",
        "from sklearn.metrics import accuracy_score\n",
        "\n",
        "car_url = \"https://archive.ics.uci.edu/ml/machine-learning-databases/car/car.data\"\n",
        "car_columns = [\"buying\", \"maint\", \"doors\", \"persons\", \"lug_boot\", \"safety\", \"acceptability\"]\n",
        "car_eval = pd.read_csv(car_url, names = car_columns)"
      ],
      "execution_count": 1,
      "outputs": []
    },
    {
      "cell_type": "code",
      "metadata": {
        "id": "G97JdXEdsmH_",
        "colab_type": "code",
        "colab": {
          "base_uri": "https://localhost:8080/",
          "height": 415
        },
        "outputId": "b3d417fd-289a-4529-de3d-af4143e1d797"
      },
      "source": [
        "car_eval"
      ],
      "execution_count": 2,
      "outputs": [
        {
          "output_type": "execute_result",
          "data": {
            "text/html": [
              "<div>\n",
              "<style scoped>\n",
              "    .dataframe tbody tr th:only-of-type {\n",
              "        vertical-align: middle;\n",
              "    }\n",
              "\n",
              "    .dataframe tbody tr th {\n",
              "        vertical-align: top;\n",
              "    }\n",
              "\n",
              "    .dataframe thead th {\n",
              "        text-align: right;\n",
              "    }\n",
              "</style>\n",
              "<table border=\"1\" class=\"dataframe\">\n",
              "  <thead>\n",
              "    <tr style=\"text-align: right;\">\n",
              "      <th></th>\n",
              "      <th>buying</th>\n",
              "      <th>maint</th>\n",
              "      <th>doors</th>\n",
              "      <th>persons</th>\n",
              "      <th>lug_boot</th>\n",
              "      <th>safety</th>\n",
              "      <th>acceptability</th>\n",
              "    </tr>\n",
              "  </thead>\n",
              "  <tbody>\n",
              "    <tr>\n",
              "      <th>0</th>\n",
              "      <td>vhigh</td>\n",
              "      <td>vhigh</td>\n",
              "      <td>2</td>\n",
              "      <td>2</td>\n",
              "      <td>small</td>\n",
              "      <td>low</td>\n",
              "      <td>unacc</td>\n",
              "    </tr>\n",
              "    <tr>\n",
              "      <th>1</th>\n",
              "      <td>vhigh</td>\n",
              "      <td>vhigh</td>\n",
              "      <td>2</td>\n",
              "      <td>2</td>\n",
              "      <td>small</td>\n",
              "      <td>med</td>\n",
              "      <td>unacc</td>\n",
              "    </tr>\n",
              "    <tr>\n",
              "      <th>2</th>\n",
              "      <td>vhigh</td>\n",
              "      <td>vhigh</td>\n",
              "      <td>2</td>\n",
              "      <td>2</td>\n",
              "      <td>small</td>\n",
              "      <td>high</td>\n",
              "      <td>unacc</td>\n",
              "    </tr>\n",
              "    <tr>\n",
              "      <th>3</th>\n",
              "      <td>vhigh</td>\n",
              "      <td>vhigh</td>\n",
              "      <td>2</td>\n",
              "      <td>2</td>\n",
              "      <td>med</td>\n",
              "      <td>low</td>\n",
              "      <td>unacc</td>\n",
              "    </tr>\n",
              "    <tr>\n",
              "      <th>4</th>\n",
              "      <td>vhigh</td>\n",
              "      <td>vhigh</td>\n",
              "      <td>2</td>\n",
              "      <td>2</td>\n",
              "      <td>med</td>\n",
              "      <td>med</td>\n",
              "      <td>unacc</td>\n",
              "    </tr>\n",
              "    <tr>\n",
              "      <th>...</th>\n",
              "      <td>...</td>\n",
              "      <td>...</td>\n",
              "      <td>...</td>\n",
              "      <td>...</td>\n",
              "      <td>...</td>\n",
              "      <td>...</td>\n",
              "      <td>...</td>\n",
              "    </tr>\n",
              "    <tr>\n",
              "      <th>1723</th>\n",
              "      <td>low</td>\n",
              "      <td>low</td>\n",
              "      <td>5more</td>\n",
              "      <td>more</td>\n",
              "      <td>med</td>\n",
              "      <td>med</td>\n",
              "      <td>good</td>\n",
              "    </tr>\n",
              "    <tr>\n",
              "      <th>1724</th>\n",
              "      <td>low</td>\n",
              "      <td>low</td>\n",
              "      <td>5more</td>\n",
              "      <td>more</td>\n",
              "      <td>med</td>\n",
              "      <td>high</td>\n",
              "      <td>vgood</td>\n",
              "    </tr>\n",
              "    <tr>\n",
              "      <th>1725</th>\n",
              "      <td>low</td>\n",
              "      <td>low</td>\n",
              "      <td>5more</td>\n",
              "      <td>more</td>\n",
              "      <td>big</td>\n",
              "      <td>low</td>\n",
              "      <td>unacc</td>\n",
              "    </tr>\n",
              "    <tr>\n",
              "      <th>1726</th>\n",
              "      <td>low</td>\n",
              "      <td>low</td>\n",
              "      <td>5more</td>\n",
              "      <td>more</td>\n",
              "      <td>big</td>\n",
              "      <td>med</td>\n",
              "      <td>good</td>\n",
              "    </tr>\n",
              "    <tr>\n",
              "      <th>1727</th>\n",
              "      <td>low</td>\n",
              "      <td>low</td>\n",
              "      <td>5more</td>\n",
              "      <td>more</td>\n",
              "      <td>big</td>\n",
              "      <td>high</td>\n",
              "      <td>vgood</td>\n",
              "    </tr>\n",
              "  </tbody>\n",
              "</table>\n",
              "<p>1728 rows × 7 columns</p>\n",
              "</div>"
            ],
            "text/plain": [
              "     buying  maint  doors persons lug_boot safety acceptability\n",
              "0     vhigh  vhigh      2       2    small    low         unacc\n",
              "1     vhigh  vhigh      2       2    small    med         unacc\n",
              "2     vhigh  vhigh      2       2    small   high         unacc\n",
              "3     vhigh  vhigh      2       2      med    low         unacc\n",
              "4     vhigh  vhigh      2       2      med    med         unacc\n",
              "...     ...    ...    ...     ...      ...    ...           ...\n",
              "1723    low    low  5more    more      med    med          good\n",
              "1724    low    low  5more    more      med   high         vgood\n",
              "1725    low    low  5more    more      big    low         unacc\n",
              "1726    low    low  5more    more      big    med          good\n",
              "1727    low    low  5more    more      big   high         vgood\n",
              "\n",
              "[1728 rows x 7 columns]"
            ]
          },
          "metadata": {
            "tags": []
          },
          "execution_count": 2
        }
      ]
    },
    {
      "cell_type": "code",
      "metadata": {
        "id": "Fv2qbANG8SNd",
        "colab_type": "code",
        "colab": {
          "base_uri": "https://localhost:8080/",
          "height": 295
        },
        "outputId": "d221461f-d645-4253-a925-3725c49e1f23"
      },
      "source": [
        "print(car_eval.isnull().sum())\n",
        "num_missing = (car_eval.iloc[:,:] == '?').sum()\n",
        "print(num_missing)"
      ],
      "execution_count": 3,
      "outputs": [
        {
          "output_type": "stream",
          "text": [
            "buying           0\n",
            "maint            0\n",
            "doors            0\n",
            "persons          0\n",
            "lug_boot         0\n",
            "safety           0\n",
            "acceptability    0\n",
            "dtype: int64\n",
            "buying           0\n",
            "maint            0\n",
            "doors            0\n",
            "persons          0\n",
            "lug_boot         0\n",
            "safety           0\n",
            "acceptability    0\n",
            "dtype: int64\n"
          ],
          "name": "stdout"
        }
      ]
    },
    {
      "cell_type": "code",
      "metadata": {
        "id": "q1jopYGX8tMQ",
        "colab_type": "code",
        "colab": {
          "base_uri": "https://localhost:8080/",
          "height": 35
        },
        "outputId": "8a2c4452-fc5a-4afe-e9c3-0f29f2acbb8e"
      },
      "source": [
        "import keras\n",
        "from keras.models import Sequential\n",
        "from keras.layers import Dense"
      ],
      "execution_count": 4,
      "outputs": [
        {
          "output_type": "stream",
          "text": [
            "Using TensorFlow backend.\n"
          ],
          "name": "stderr"
        }
      ]
    },
    {
      "cell_type": "code",
      "metadata": {
        "id": "Sm3Z2Zfd_sXU",
        "colab_type": "code",
        "colab": {}
      },
      "source": [
        "data = car_eval\n",
        "data[\"buying\"] = data[\"buying\"].astype('category')\n",
        "data[\"buying\"] = data[\"buying\"].cat.codes\n",
        "data[\"maint\"] = data[\"maint\"].astype('category')\n",
        "data[\"maint\"] = data[\"maint\"].cat.codes\n",
        "data[\"doors\"] = data[\"doors\"].astype('category')\n",
        "data[\"doors\"] = data[\"doors\"].cat.codes\n",
        "data[\"persons\"] = data[\"persons\"].astype('category')\n",
        "data[\"persons\"] = data[\"persons\"].cat.codes\n",
        "data[\"lug_boot\"] = data[\"lug_boot\"].astype('category')\n",
        "data[\"lug_boot\"] = data[\"lug_boot\"].cat.codes\n",
        "data[\"safety\"] = data[\"safety\"].astype('category')\n",
        "data[\"safety\"] = data[\"safety\"].cat.codes\n",
        "data[\"acceptability\"] = data[\"acceptability\"].astype('category')\n",
        "data[\"acceptability\"] = data[\"acceptability\"].cat.codes"
      ],
      "execution_count": 5,
      "outputs": []
    },
    {
      "cell_type": "code",
      "metadata": {
        "id": "uvq7iPR7ATPq",
        "colab_type": "code",
        "colab": {
          "base_uri": "https://localhost:8080/",
          "height": 415
        },
        "outputId": "5e455099-1b24-41e8-86a7-9f503275d1ca"
      },
      "source": [
        "data"
      ],
      "execution_count": 6,
      "outputs": [
        {
          "output_type": "execute_result",
          "data": {
            "text/html": [
              "<div>\n",
              "<style scoped>\n",
              "    .dataframe tbody tr th:only-of-type {\n",
              "        vertical-align: middle;\n",
              "    }\n",
              "\n",
              "    .dataframe tbody tr th {\n",
              "        vertical-align: top;\n",
              "    }\n",
              "\n",
              "    .dataframe thead th {\n",
              "        text-align: right;\n",
              "    }\n",
              "</style>\n",
              "<table border=\"1\" class=\"dataframe\">\n",
              "  <thead>\n",
              "    <tr style=\"text-align: right;\">\n",
              "      <th></th>\n",
              "      <th>buying</th>\n",
              "      <th>maint</th>\n",
              "      <th>doors</th>\n",
              "      <th>persons</th>\n",
              "      <th>lug_boot</th>\n",
              "      <th>safety</th>\n",
              "      <th>acceptability</th>\n",
              "    </tr>\n",
              "  </thead>\n",
              "  <tbody>\n",
              "    <tr>\n",
              "      <th>0</th>\n",
              "      <td>3</td>\n",
              "      <td>3</td>\n",
              "      <td>0</td>\n",
              "      <td>0</td>\n",
              "      <td>2</td>\n",
              "      <td>1</td>\n",
              "      <td>2</td>\n",
              "    </tr>\n",
              "    <tr>\n",
              "      <th>1</th>\n",
              "      <td>3</td>\n",
              "      <td>3</td>\n",
              "      <td>0</td>\n",
              "      <td>0</td>\n",
              "      <td>2</td>\n",
              "      <td>2</td>\n",
              "      <td>2</td>\n",
              "    </tr>\n",
              "    <tr>\n",
              "      <th>2</th>\n",
              "      <td>3</td>\n",
              "      <td>3</td>\n",
              "      <td>0</td>\n",
              "      <td>0</td>\n",
              "      <td>2</td>\n",
              "      <td>0</td>\n",
              "      <td>2</td>\n",
              "    </tr>\n",
              "    <tr>\n",
              "      <th>3</th>\n",
              "      <td>3</td>\n",
              "      <td>3</td>\n",
              "      <td>0</td>\n",
              "      <td>0</td>\n",
              "      <td>1</td>\n",
              "      <td>1</td>\n",
              "      <td>2</td>\n",
              "    </tr>\n",
              "    <tr>\n",
              "      <th>4</th>\n",
              "      <td>3</td>\n",
              "      <td>3</td>\n",
              "      <td>0</td>\n",
              "      <td>0</td>\n",
              "      <td>1</td>\n",
              "      <td>2</td>\n",
              "      <td>2</td>\n",
              "    </tr>\n",
              "    <tr>\n",
              "      <th>...</th>\n",
              "      <td>...</td>\n",
              "      <td>...</td>\n",
              "      <td>...</td>\n",
              "      <td>...</td>\n",
              "      <td>...</td>\n",
              "      <td>...</td>\n",
              "      <td>...</td>\n",
              "    </tr>\n",
              "    <tr>\n",
              "      <th>1723</th>\n",
              "      <td>1</td>\n",
              "      <td>1</td>\n",
              "      <td>3</td>\n",
              "      <td>2</td>\n",
              "      <td>1</td>\n",
              "      <td>2</td>\n",
              "      <td>1</td>\n",
              "    </tr>\n",
              "    <tr>\n",
              "      <th>1724</th>\n",
              "      <td>1</td>\n",
              "      <td>1</td>\n",
              "      <td>3</td>\n",
              "      <td>2</td>\n",
              "      <td>1</td>\n",
              "      <td>0</td>\n",
              "      <td>3</td>\n",
              "    </tr>\n",
              "    <tr>\n",
              "      <th>1725</th>\n",
              "      <td>1</td>\n",
              "      <td>1</td>\n",
              "      <td>3</td>\n",
              "      <td>2</td>\n",
              "      <td>0</td>\n",
              "      <td>1</td>\n",
              "      <td>2</td>\n",
              "    </tr>\n",
              "    <tr>\n",
              "      <th>1726</th>\n",
              "      <td>1</td>\n",
              "      <td>1</td>\n",
              "      <td>3</td>\n",
              "      <td>2</td>\n",
              "      <td>0</td>\n",
              "      <td>2</td>\n",
              "      <td>1</td>\n",
              "    </tr>\n",
              "    <tr>\n",
              "      <th>1727</th>\n",
              "      <td>1</td>\n",
              "      <td>1</td>\n",
              "      <td>3</td>\n",
              "      <td>2</td>\n",
              "      <td>0</td>\n",
              "      <td>0</td>\n",
              "      <td>3</td>\n",
              "    </tr>\n",
              "  </tbody>\n",
              "</table>\n",
              "<p>1728 rows × 7 columns</p>\n",
              "</div>"
            ],
            "text/plain": [
              "      buying  maint  doors  persons  lug_boot  safety  acceptability\n",
              "0          3      3      0        0         2       1              2\n",
              "1          3      3      0        0         2       2              2\n",
              "2          3      3      0        0         2       0              2\n",
              "3          3      3      0        0         1       1              2\n",
              "4          3      3      0        0         1       2              2\n",
              "...      ...    ...    ...      ...       ...     ...            ...\n",
              "1723       1      1      3        2         1       2              1\n",
              "1724       1      1      3        2         1       0              3\n",
              "1725       1      1      3        2         0       1              2\n",
              "1726       1      1      3        2         0       2              1\n",
              "1727       1      1      3        2         0       0              3\n",
              "\n",
              "[1728 rows x 7 columns]"
            ]
          },
          "metadata": {
            "tags": []
          },
          "execution_count": 6
        }
      ]
    },
    {
      "cell_type": "code",
      "metadata": {
        "id": "R5jnHr3V9Ek-",
        "colab_type": "code",
        "colab": {}
      },
      "source": [
        "targets = data[[\"acceptability\"]]\n",
        "features = data.iloc[:, data.columns != \"acceptability\"]"
      ],
      "execution_count": 7,
      "outputs": []
    },
    {
      "cell_type": "code",
      "metadata": {
        "id": "3xHtSqbUIn4G",
        "colab_type": "code",
        "colab": {}
      },
      "source": [
        "from sklearn.preprocessing import StandardScaler\n",
        "from sklearn import preprocessing\n",
        "sc = StandardScaler()\n",
        "sc.fit(features)\n",
        "features = sc.transform(features)"
      ],
      "execution_count": 8,
      "outputs": []
    },
    {
      "cell_type": "code",
      "metadata": {
        "id": "Crdavz6TI0R7",
        "colab_type": "code",
        "colab": {}
      },
      "source": [
        "train_data, test_data, train_targets, test_targets = train_test_split(features, targets, test_size = 0.3)"
      ],
      "execution_count": 11,
      "outputs": []
    },
    {
      "cell_type": "code",
      "metadata": {
        "id": "LTAuaEiXI9vV",
        "colab_type": "code",
        "colab": {}
      },
      "source": [
        "from keras.utils import to_categorical\n",
        "train_targets = to_categorical(train_targets)"
      ],
      "execution_count": 12,
      "outputs": []
    },
    {
      "cell_type": "code",
      "metadata": {
        "id": "wmIiyQyoIVX2",
        "colab_type": "code",
        "colab": {}
      },
      "source": [
        "classifier = Sequential()\n",
        "classifier.add(Dense(36, activation=\"relu\"))\n",
        "classifier.add(Dense(18, activation=\"relu\"))\n",
        "classifier.add(Dense(4, activation=\"softmax\"))\n",
        "classifier.compile(optimizer=\"adam\", loss=\"categorical_crossentropy\", metrics=[\"accuracy\"])"
      ],
      "execution_count": 33,
      "outputs": []
    },
    {
      "cell_type": "code",
      "metadata": {
        "id": "Ro8N7eD-Ibyq",
        "colab_type": "code",
        "colab": {
          "base_uri": "https://localhost:8080/",
          "height": 1000
        },
        "outputId": "8b3b98fb-9093-41a3-8f87-ec944f13b925"
      },
      "source": [
        "classifier.fit(train_data, train_targets, epochs=75)"
      ],
      "execution_count": 34,
      "outputs": [
        {
          "output_type": "stream",
          "text": [
            "Epoch 1/75\n",
            "1209/1209 [==============================] - 0s 101us/step - loss: 1.1662 - accuracy: 0.5906\n",
            "Epoch 2/75\n",
            "1209/1209 [==============================] - 0s 42us/step - loss: 0.8209 - accuracy: 0.7022\n",
            "Epoch 3/75\n",
            "1209/1209 [==============================] - 0s 34us/step - loss: 0.7012 - accuracy: 0.7089\n",
            "Epoch 4/75\n",
            "1209/1209 [==============================] - 0s 35us/step - loss: 0.6567 - accuracy: 0.7105\n",
            "Epoch 5/75\n",
            "1209/1209 [==============================] - 0s 35us/step - loss: 0.6311 - accuracy: 0.7105\n",
            "Epoch 6/75\n",
            "1209/1209 [==============================] - 0s 35us/step - loss: 0.6078 - accuracy: 0.7213\n",
            "Epoch 7/75\n",
            "1209/1209 [==============================] - 0s 35us/step - loss: 0.5812 - accuracy: 0.7337\n",
            "Epoch 8/75\n",
            "1209/1209 [==============================] - 0s 36us/step - loss: 0.5544 - accuracy: 0.7527\n",
            "Epoch 9/75\n",
            "1209/1209 [==============================] - 0s 34us/step - loss: 0.5233 - accuracy: 0.7651\n",
            "Epoch 10/75\n",
            "1209/1209 [==============================] - 0s 35us/step - loss: 0.4944 - accuracy: 0.7866\n",
            "Epoch 11/75\n",
            "1209/1209 [==============================] - 0s 34us/step - loss: 0.4600 - accuracy: 0.8048\n",
            "Epoch 12/75\n",
            "1209/1209 [==============================] - 0s 39us/step - loss: 0.4288 - accuracy: 0.8280\n",
            "Epoch 13/75\n",
            "1209/1209 [==============================] - 0s 34us/step - loss: 0.3985 - accuracy: 0.8395\n",
            "Epoch 14/75\n",
            "1209/1209 [==============================] - 0s 35us/step - loss: 0.3726 - accuracy: 0.8561\n",
            "Epoch 15/75\n",
            "1209/1209 [==============================] - 0s 36us/step - loss: 0.3443 - accuracy: 0.8743\n",
            "Epoch 16/75\n",
            "1209/1209 [==============================] - 0s 35us/step - loss: 0.3216 - accuracy: 0.8817\n",
            "Epoch 17/75\n",
            "1209/1209 [==============================] - 0s 33us/step - loss: 0.3009 - accuracy: 0.8950\n",
            "Epoch 18/75\n",
            "1209/1209 [==============================] - 0s 35us/step - loss: 0.2840 - accuracy: 0.9041\n",
            "Epoch 19/75\n",
            "1209/1209 [==============================] - 0s 36us/step - loss: 0.2668 - accuracy: 0.9057\n",
            "Epoch 20/75\n",
            "1209/1209 [==============================] - 0s 38us/step - loss: 0.2506 - accuracy: 0.9189\n",
            "Epoch 21/75\n",
            "1209/1209 [==============================] - 0s 36us/step - loss: 0.2370 - accuracy: 0.9181\n",
            "Epoch 22/75\n",
            "1209/1209 [==============================] - 0s 40us/step - loss: 0.2234 - accuracy: 0.9289\n",
            "Epoch 23/75\n",
            "1209/1209 [==============================] - 0s 36us/step - loss: 0.2097 - accuracy: 0.9338\n",
            "Epoch 24/75\n",
            "1209/1209 [==============================] - 0s 35us/step - loss: 0.1990 - accuracy: 0.9330\n",
            "Epoch 25/75\n",
            "1209/1209 [==============================] - 0s 40us/step - loss: 0.1887 - accuracy: 0.9429\n",
            "Epoch 26/75\n",
            "1209/1209 [==============================] - 0s 40us/step - loss: 0.1780 - accuracy: 0.9495\n",
            "Epoch 27/75\n",
            "1209/1209 [==============================] - 0s 37us/step - loss: 0.1674 - accuracy: 0.9537\n",
            "Epoch 28/75\n",
            "1209/1209 [==============================] - 0s 40us/step - loss: 0.1578 - accuracy: 0.9611\n",
            "Epoch 29/75\n",
            "1209/1209 [==============================] - 0s 39us/step - loss: 0.1493 - accuracy: 0.9644\n",
            "Epoch 30/75\n",
            "1209/1209 [==============================] - 0s 36us/step - loss: 0.1415 - accuracy: 0.9694\n",
            "Epoch 31/75\n",
            "1209/1209 [==============================] - 0s 37us/step - loss: 0.1346 - accuracy: 0.9719\n",
            "Epoch 32/75\n",
            "1209/1209 [==============================] - 0s 35us/step - loss: 0.1274 - accuracy: 0.9760\n",
            "Epoch 33/75\n",
            "1209/1209 [==============================] - 0s 35us/step - loss: 0.1222 - accuracy: 0.9760\n",
            "Epoch 34/75\n",
            "1209/1209 [==============================] - 0s 36us/step - loss: 0.1159 - accuracy: 0.9752\n",
            "Epoch 35/75\n",
            "1209/1209 [==============================] - 0s 35us/step - loss: 0.1091 - accuracy: 0.9801\n",
            "Epoch 36/75\n",
            "1209/1209 [==============================] - 0s 35us/step - loss: 0.1063 - accuracy: 0.9835\n",
            "Epoch 37/75\n",
            "1209/1209 [==============================] - 0s 35us/step - loss: 0.1005 - accuracy: 0.9801\n",
            "Epoch 38/75\n",
            "1209/1209 [==============================] - 0s 36us/step - loss: 0.0950 - accuracy: 0.9810\n",
            "Epoch 39/75\n",
            "1209/1209 [==============================] - 0s 35us/step - loss: 0.0921 - accuracy: 0.9859\n",
            "Epoch 40/75\n",
            "1209/1209 [==============================] - 0s 35us/step - loss: 0.0883 - accuracy: 0.9859\n",
            "Epoch 41/75\n",
            "1209/1209 [==============================] - 0s 36us/step - loss: 0.0861 - accuracy: 0.9909\n",
            "Epoch 42/75\n",
            "1209/1209 [==============================] - 0s 36us/step - loss: 0.0812 - accuracy: 0.9868\n",
            "Epoch 43/75\n",
            "1209/1209 [==============================] - 0s 34us/step - loss: 0.0772 - accuracy: 0.9901\n",
            "Epoch 44/75\n",
            "1209/1209 [==============================] - 0s 37us/step - loss: 0.0752 - accuracy: 0.9901\n",
            "Epoch 45/75\n",
            "1209/1209 [==============================] - 0s 35us/step - loss: 0.0720 - accuracy: 0.9909\n",
            "Epoch 46/75\n",
            "1209/1209 [==============================] - 0s 35us/step - loss: 0.0698 - accuracy: 0.9892\n",
            "Epoch 47/75\n",
            "1209/1209 [==============================] - 0s 39us/step - loss: 0.0661 - accuracy: 0.9926\n",
            "Epoch 48/75\n",
            "1209/1209 [==============================] - 0s 34us/step - loss: 0.0637 - accuracy: 0.9909\n",
            "Epoch 49/75\n",
            "1209/1209 [==============================] - 0s 35us/step - loss: 0.0617 - accuracy: 0.9917\n",
            "Epoch 50/75\n",
            "1209/1209 [==============================] - 0s 36us/step - loss: 0.0605 - accuracy: 0.9917\n",
            "Epoch 51/75\n",
            "1209/1209 [==============================] - 0s 35us/step - loss: 0.0578 - accuracy: 0.9942\n",
            "Epoch 52/75\n",
            "1209/1209 [==============================] - 0s 36us/step - loss: 0.0560 - accuracy: 0.9959\n",
            "Epoch 53/75\n",
            "1209/1209 [==============================] - 0s 35us/step - loss: 0.0541 - accuracy: 0.9959\n",
            "Epoch 54/75\n",
            "1209/1209 [==============================] - 0s 36us/step - loss: 0.0521 - accuracy: 0.9959\n",
            "Epoch 55/75\n",
            "1209/1209 [==============================] - 0s 35us/step - loss: 0.0517 - accuracy: 0.9934\n",
            "Epoch 56/75\n",
            "1209/1209 [==============================] - 0s 35us/step - loss: 0.0490 - accuracy: 0.9950\n",
            "Epoch 57/75\n",
            "1209/1209 [==============================] - 0s 36us/step - loss: 0.0470 - accuracy: 0.9975\n",
            "Epoch 58/75\n",
            "1209/1209 [==============================] - 0s 35us/step - loss: 0.0459 - accuracy: 0.9959\n",
            "Epoch 59/75\n",
            "1209/1209 [==============================] - 0s 35us/step - loss: 0.0443 - accuracy: 0.9959\n",
            "Epoch 60/75\n",
            "1209/1209 [==============================] - 0s 35us/step - loss: 0.0427 - accuracy: 0.9950\n",
            "Epoch 61/75\n",
            "1209/1209 [==============================] - 0s 36us/step - loss: 0.0417 - accuracy: 0.9959\n",
            "Epoch 62/75\n",
            "1209/1209 [==============================] - 0s 35us/step - loss: 0.0410 - accuracy: 0.9959\n",
            "Epoch 63/75\n",
            "1209/1209 [==============================] - 0s 36us/step - loss: 0.0385 - accuracy: 0.9967\n",
            "Epoch 64/75\n",
            "1209/1209 [==============================] - 0s 35us/step - loss: 0.0383 - accuracy: 0.9975\n",
            "Epoch 65/75\n",
            "1209/1209 [==============================] - 0s 36us/step - loss: 0.0368 - accuracy: 0.9975\n",
            "Epoch 66/75\n",
            "1209/1209 [==============================] - 0s 36us/step - loss: 0.0360 - accuracy: 0.9959\n",
            "Epoch 67/75\n",
            "1209/1209 [==============================] - 0s 39us/step - loss: 0.0345 - accuracy: 0.9983\n",
            "Epoch 68/75\n",
            "1209/1209 [==============================] - 0s 36us/step - loss: 0.0327 - accuracy: 0.9975\n",
            "Epoch 69/75\n",
            "1209/1209 [==============================] - 0s 36us/step - loss: 0.0328 - accuracy: 0.9975\n",
            "Epoch 70/75\n",
            "1209/1209 [==============================] - 0s 37us/step - loss: 0.0310 - accuracy: 0.9983\n",
            "Epoch 71/75\n",
            "1209/1209 [==============================] - 0s 35us/step - loss: 0.0297 - accuracy: 0.9983\n",
            "Epoch 72/75\n",
            "1209/1209 [==============================] - 0s 36us/step - loss: 0.0291 - accuracy: 0.9983\n",
            "Epoch 73/75\n",
            "1209/1209 [==============================] - 0s 36us/step - loss: 0.0284 - accuracy: 0.9983\n",
            "Epoch 74/75\n",
            "1209/1209 [==============================] - 0s 43us/step - loss: 0.0281 - accuracy: 0.9992\n",
            "Epoch 75/75\n",
            "1209/1209 [==============================] - 0s 43us/step - loss: 0.0269 - accuracy: 0.9983\n"
          ],
          "name": "stdout"
        },
        {
          "output_type": "execute_result",
          "data": {
            "text/plain": [
              "<keras.callbacks.callbacks.History at 0x7f427b3e67f0>"
            ]
          },
          "metadata": {
            "tags": []
          },
          "execution_count": 34
        }
      ]
    },
    {
      "cell_type": "code",
      "metadata": {
        "id": "odfIe9LKIhGC",
        "colab_type": "code",
        "colab": {}
      },
      "source": [
        "pred_targets = classifier.predict_classes(test_data)"
      ],
      "execution_count": 35,
      "outputs": []
    },
    {
      "cell_type": "code",
      "metadata": {
        "id": "-eIecA6zJdch",
        "colab_type": "code",
        "colab": {
          "base_uri": "https://localhost:8080/",
          "height": 35
        },
        "outputId": "8bc9fc44-9a79-4a3a-bf19-3870227beab6"
      },
      "source": [
        "accuracy_score(pred_targets, test_targets)"
      ],
      "execution_count": 36,
      "outputs": [
        {
          "output_type": "execute_result",
          "data": {
            "text/plain": [
              "0.9499036608863198"
            ]
          },
          "metadata": {
            "tags": []
          },
          "execution_count": 36
        }
      ]
    },
    {
      "cell_type": "code",
      "metadata": {
        "id": "4gSwmATXMcSS",
        "colab_type": "code",
        "colab": {
          "base_uri": "https://localhost:8080/",
          "height": 35
        },
        "outputId": "0d30ccaa-4ecc-4980-87ef-5a47630a169c"
      },
      "source": [
        "features.shape"
      ],
      "execution_count": 26,
      "outputs": [
        {
          "output_type": "execute_result",
          "data": {
            "text/plain": [
              "(1728, 6)"
            ]
          },
          "metadata": {
            "tags": []
          },
          "execution_count": 26
        }
      ]
    },
    {
      "cell_type": "code",
      "metadata": {
        "id": "IAXU4kZ2Ml8U",
        "colab_type": "code",
        "colab": {
          "base_uri": "https://localhost:8080/",
          "height": 35
        },
        "outputId": "916e8375-7a52-41d4-e447-ae8a9277c806"
      },
      "source": [
        "train_targets.shape"
      ],
      "execution_count": 27,
      "outputs": [
        {
          "output_type": "execute_result",
          "data": {
            "text/plain": [
              "(1209, 4)"
            ]
          },
          "metadata": {
            "tags": []
          },
          "execution_count": 27
        }
      ]
    },
    {
      "cell_type": "code",
      "metadata": {
        "id": "4OUp63paOwY4",
        "colab_type": "code",
        "colab": {}
      },
      "source": [
        "classifier = Sequential()\n",
        "classifier.add(Dense(36, activation=\"relu\"))\n",
        "classifier.add(Dense(18, activation=\"relu\"))\n",
        "classifier.add(Dense(4, activation=\"softmax\"))\n",
        "classifier.compile(optimizer=\"adam\", loss=\"categorical_crossentropy\", metrics=[\"accuracy\"])"
      ],
      "execution_count": null,
      "outputs": []
    },
    {
      "cell_type": "code",
      "metadata": {
        "id": "D6biK9udMOO-",
        "colab_type": "code",
        "colab": {
          "base_uri": "https://localhost:8080/",
          "height": 295
        },
        "outputId": "e93d8040-27af-4f1c-d4c8-f3e07a597db9"
      },
      "source": [
        "history = classifier.fit(train_data, train_targets, validation_split = 0.3, epochs = 200, verbose = 0)\n",
        "import matplotlib.pyplot as plt\n",
        "plt.plot(history.history['accuracy'])\n",
        "plt.plot(history.history['val_accuracy'])\n",
        "plt.title('model accuracy')\n",
        "plt.ylabel('accuracy')\n",
        "plt.xlabel('epoch')\n",
        "plt.legend(['train', 'validation'], loc='upper left')\n",
        "plt.show()"
      ],
      "execution_count": 32,
      "outputs": [
        {
          "output_type": "display_data",
          "data": {
            "image/png": "[encoded data removed]",
            "text/plain": [
              "<Figure size 432x288 with 1 Axes>"
            ]
          },
          "metadata": {
            "tags": [],
            "needs_background": "light"
          }
        }
      ]
    }
  ]
}