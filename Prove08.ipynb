{
  "nbformat": 4,
  "nbformat_minor": 0,
  "metadata": {
    "colab": {
      "name": "Prove05.ipynb",
      "provenance": [],
      "authorship_tag": "ABX9TyMVIzRedLPAxBbaahwIXpTJ",
      "include_colab_link": true
    },
    "kernelspec": {
      "name": "python3",
      "display_name": "Python 3"
    }
  },
  "cells": [
    {
      "cell_type": "markdown",
      "metadata": {
        "id": "view-in-github",
        "colab_type": "text"
      },
      "source": [
        "<a href=\"https://colab.research.google.com/github/6tfackr9/CS-450/blob/master/Prove08.ipynb\" target=\"_parent\"><img src=\"https://colab.research.google.com/assets/colab-badge.svg\" alt=\"Open In Colab\"/></a>"
      ]
    },
    {
      "cell_type": "code",
      "metadata": {
        "id": "Sxyhs5A4Re7_",
        "colab_type": "code",
        "colab": {}
      },
      "source": [
        "import pandas as pd\n",
        "from sklearn.model_selection import train_test_split\n",
        "from sklearn.metrics import accuracy_score\n",
        "\n",
        "car_url = \"https://archive.ics.uci.edu/ml/machine-learning-databases/car/car.data\"\n",
        "car_columns = [\"buying\", \"maint\", \"doors\", \"persons\", \"lug_boot\", \"safety\", \"acceptability\"]\n",
        "car_eval = pd.read_csv(car_url, names = car_columns)"
      ],
      "execution_count": 1,
      "outputs": []
    },
    {
      "cell_type": "code",
      "metadata": {
        "id": "G97JdXEdsmH_",
        "colab_type": "code",
        "colab": {
          "base_uri": "https://localhost:8080/",
          "height": 415
        },
        "outputId": "734dba30-f3df-43e0-f6fa-3a89e10cb038"
      },
      "source": [
        "car_eval"
      ],
      "execution_count": 2,
      "outputs": [
        {
          "output_type": "execute_result",
          "data": {
            "text/html": [
              "<div>\n",
              "<style scoped>\n",
              "    .dataframe tbody tr th:only-of-type {\n",
              "        vertical-align: middle;\n",
              "    }\n",
              "\n",
              "    .dataframe tbody tr th {\n",
              "        vertical-align: top;\n",
              "    }\n",
              "\n",
              "    .dataframe thead th {\n",
              "        text-align: right;\n",
              "    }\n",
              "</style>\n",
              "<table border=\"1\" class=\"dataframe\">\n",
              "  <thead>\n",
              "    <tr style=\"text-align: right;\">\n",
              "      <th></th>\n",
              "      <th>buying</th>\n",
              "      <th>maint</th>\n",
              "      <th>doors</th>\n",
              "      <th>persons</th>\n",
              "      <th>lug_boot</th>\n",
              "      <th>safety</th>\n",
              "      <th>acceptability</th>\n",
              "    </tr>\n",
              "  </thead>\n",
              "  <tbody>\n",
              "    <tr>\n",
              "      <th>0</th>\n",
              "      <td>vhigh</td>\n",
              "      <td>vhigh</td>\n",
              "      <td>2</td>\n",
              "      <td>2</td>\n",
              "      <td>small</td>\n",
              "      <td>low</td>\n",
              "      <td>unacc</td>\n",
              "    </tr>\n",
              "    <tr>\n",
              "      <th>1</th>\n",
              "      <td>vhigh</td>\n",
              "      <td>vhigh</td>\n",
              "      <td>2</td>\n",
              "      <td>2</td>\n",
              "      <td>small</td>\n",
              "      <td>med</td>\n",
              "      <td>unacc</td>\n",
              "    </tr>\n",
              "    <tr>\n",
              "      <th>2</th>\n",
              "      <td>vhigh</td>\n",
              "      <td>vhigh</td>\n",
              "      <td>2</td>\n",
              "      <td>2</td>\n",
              "      <td>small</td>\n",
              "      <td>high</td>\n",
              "      <td>unacc</td>\n",
              "    </tr>\n",
              "    <tr>\n",
              "      <th>3</th>\n",
              "      <td>vhigh</td>\n",
              "      <td>vhigh</td>\n",
              "      <td>2</td>\n",
              "      <td>2</td>\n",
              "      <td>med</td>\n",
              "      <td>low</td>\n",
              "      <td>unacc</td>\n",
              "    </tr>\n",
              "    <tr>\n",
              "      <th>4</th>\n",
              "      <td>vhigh</td>\n",
              "      <td>vhigh</td>\n",
              "      <td>2</td>\n",
              "      <td>2</td>\n",
              "      <td>med</td>\n",
              "      <td>med</td>\n",
              "      <td>unacc</td>\n",
              "    </tr>\n",
              "    <tr>\n",
              "      <th>...</th>\n",
              "      <td>...</td>\n",
              "      <td>...</td>\n",
              "      <td>...</td>\n",
              "      <td>...</td>\n",
              "      <td>...</td>\n",
              "      <td>...</td>\n",
              "      <td>...</td>\n",
              "    </tr>\n",
              "    <tr>\n",
              "      <th>1723</th>\n",
              "      <td>low</td>\n",
              "      <td>low</td>\n",
              "      <td>5more</td>\n",
              "      <td>more</td>\n",
              "      <td>med</td>\n",
              "      <td>med</td>\n",
              "      <td>good</td>\n",
              "    </tr>\n",
              "    <tr>\n",
              "      <th>1724</th>\n",
              "      <td>low</td>\n",
              "      <td>low</td>\n",
              "      <td>5more</td>\n",
              "      <td>more</td>\n",
              "      <td>med</td>\n",
              "      <td>high</td>\n",
              "      <td>vgood</td>\n",
              "    </tr>\n",
              "    <tr>\n",
              "      <th>1725</th>\n",
              "      <td>low</td>\n",
              "      <td>low</td>\n",
              "      <td>5more</td>\n",
              "      <td>more</td>\n",
              "      <td>big</td>\n",
              "      <td>low</td>\n",
              "      <td>unacc</td>\n",
              "    </tr>\n",
              "    <tr>\n",
              "      <th>1726</th>\n",
              "      <td>low</td>\n",
              "      <td>low</td>\n",
              "      <td>5more</td>\n",
              "      <td>more</td>\n",
              "      <td>big</td>\n",
              "      <td>med</td>\n",
              "      <td>good</td>\n",
              "    </tr>\n",
              "    <tr>\n",
              "      <th>1727</th>\n",
              "      <td>low</td>\n",
              "      <td>low</td>\n",
              "      <td>5more</td>\n",
              "      <td>more</td>\n",
              "      <td>big</td>\n",
              "      <td>high</td>\n",
              "      <td>vgood</td>\n",
              "    </tr>\n",
              "  </tbody>\n",
              "</table>\n",
              "<p>1728 rows × 7 columns</p>\n",
              "</div>"
            ],
            "text/plain": [
              "     buying  maint  doors persons lug_boot safety acceptability\n",
              "0     vhigh  vhigh      2       2    small    low         unacc\n",
              "1     vhigh  vhigh      2       2    small    med         unacc\n",
              "2     vhigh  vhigh      2       2    small   high         unacc\n",
              "3     vhigh  vhigh      2       2      med    low         unacc\n",
              "4     vhigh  vhigh      2       2      med    med         unacc\n",
              "...     ...    ...    ...     ...      ...    ...           ...\n",
              "1723    low    low  5more    more      med    med          good\n",
              "1724    low    low  5more    more      med   high         vgood\n",
              "1725    low    low  5more    more      big    low         unacc\n",
              "1726    low    low  5more    more      big    med          good\n",
              "1727    low    low  5more    more      big   high         vgood\n",
              "\n",
              "[1728 rows x 7 columns]"
            ]
          },
          "metadata": {
            "tags": []
          },
          "execution_count": 2
        }
      ]
    },
    {
      "cell_type": "code",
      "metadata": {
        "id": "Fv2qbANG8SNd",
        "colab_type": "code",
        "colab": {
          "base_uri": "https://localhost:8080/",
          "height": 295
        },
        "outputId": "b1e8556c-366c-4d4a-b211-5abe448e04e1"
      },
      "source": [
        "print(car_eval.isnull().sum())\n",
        "num_missing = (car_eval.iloc[:,:] == '?').sum()\n",
        "print(num_missing)"
      ],
      "execution_count": 3,
      "outputs": [
        {
          "output_type": "stream",
          "text": [
            "buying           0\n",
            "maint            0\n",
            "doors            0\n",
            "persons          0\n",
            "lug_boot         0\n",
            "safety           0\n",
            "acceptability    0\n",
            "dtype: int64\n",
            "buying           0\n",
            "maint            0\n",
            "doors            0\n",
            "persons          0\n",
            "lug_boot         0\n",
            "safety           0\n",
            "acceptability    0\n",
            "dtype: int64\n"
          ],
          "name": "stdout"
        }
      ]
    },
    {
      "cell_type": "code",
      "metadata": {
        "id": "q1jopYGX8tMQ",
        "colab_type": "code",
        "colab": {
          "base_uri": "https://localhost:8080/",
          "height": 35
        },
        "outputId": "0cf010a7-7317-4c54-b417-68ecf070533a"
      },
      "source": [
        "import keras\n",
        "from keras.models import Sequential\n",
        "from keras.layers import Dense"
      ],
      "execution_count": 4,
      "outputs": [
        {
          "output_type": "stream",
          "text": [
            "Using TensorFlow backend.\n"
          ],
          "name": "stderr"
        }
      ]
    },
    {
      "cell_type": "code",
      "metadata": {
        "id": "Sm3Z2Zfd_sXU",
        "colab_type": "code",
        "colab": {}
      },
      "source": [
        "data = car_eval\n",
        "data[\"buying\"] = data[\"buying\"].astype('category')\n",
        "data[\"buying\"] = data[\"buying\"].cat.codes\n",
        "data[\"maint\"] = data[\"maint\"].astype('category')\n",
        "data[\"maint\"] = data[\"maint\"].cat.codes\n",
        "data[\"doors\"] = data[\"doors\"].astype('category')\n",
        "data[\"doors\"] = data[\"doors\"].cat.codes\n",
        "data[\"persons\"] = data[\"persons\"].astype('category')\n",
        "data[\"persons\"] = data[\"persons\"].cat.codes\n",
        "data[\"lug_boot\"] = data[\"lug_boot\"].astype('category')\n",
        "data[\"lug_boot\"] = data[\"lug_boot\"].cat.codes\n",
        "data[\"safety\"] = data[\"safety\"].astype('category')\n",
        "data[\"safety\"] = data[\"safety\"].cat.codes\n",
        "data[\"acceptability\"] = data[\"acceptability\"].astype('category')\n",
        "data[\"acceptability\"] = data[\"acceptability\"].cat.codes"
      ],
      "execution_count": 5,
      "outputs": []
    },
    {
      "cell_type": "code",
      "metadata": {
        "id": "uvq7iPR7ATPq",
        "colab_type": "code",
        "colab": {
          "base_uri": "https://localhost:8080/",
          "height": 415
        },
        "outputId": "b2dbbc58-36b5-4ff0-f8f1-0600ab713bbc"
      },
      "source": [
        "data"
      ],
      "execution_count": 6,
      "outputs": [
        {
          "output_type": "execute_result",
          "data": {
            "text/html": [
              "<div>\n",
              "<style scoped>\n",
              "    .dataframe tbody tr th:only-of-type {\n",
              "        vertical-align: middle;\n",
              "    }\n",
              "\n",
              "    .dataframe tbody tr th {\n",
              "        vertical-align: top;\n",
              "    }\n",
              "\n",
              "    .dataframe thead th {\n",
              "        text-align: right;\n",
              "    }\n",
              "</style>\n",
              "<table border=\"1\" class=\"dataframe\">\n",
              "  <thead>\n",
              "    <tr style=\"text-align: right;\">\n",
              "      <th></th>\n",
              "      <th>buying</th>\n",
              "      <th>maint</th>\n",
              "      <th>doors</th>\n",
              "      <th>persons</th>\n",
              "      <th>lug_boot</th>\n",
              "      <th>safety</th>\n",
              "      <th>acceptability</th>\n",
              "    </tr>\n",
              "  </thead>\n",
              "  <tbody>\n",
              "    <tr>\n",
              "      <th>0</th>\n",
              "      <td>3</td>\n",
              "      <td>3</td>\n",
              "      <td>0</td>\n",
              "      <td>0</td>\n",
              "      <td>2</td>\n",
              "      <td>1</td>\n",
              "      <td>2</td>\n",
              "    </tr>\n",
              "    <tr>\n",
              "      <th>1</th>\n",
              "      <td>3</td>\n",
              "      <td>3</td>\n",
              "      <td>0</td>\n",
              "      <td>0</td>\n",
              "      <td>2</td>\n",
              "      <td>2</td>\n",
              "      <td>2</td>\n",
              "    </tr>\n",
              "    <tr>\n",
              "      <th>2</th>\n",
              "      <td>3</td>\n",
              "      <td>3</td>\n",
              "      <td>0</td>\n",
              "      <td>0</td>\n",
              "      <td>2</td>\n",
              "      <td>0</td>\n",
              "      <td>2</td>\n",
              "    </tr>\n",
              "    <tr>\n",
              "      <th>3</th>\n",
              "      <td>3</td>\n",
              "      <td>3</td>\n",
              "      <td>0</td>\n",
              "      <td>0</td>\n",
              "      <td>1</td>\n",
              "      <td>1</td>\n",
              "      <td>2</td>\n",
              "    </tr>\n",
              "    <tr>\n",
              "      <th>4</th>\n",
              "      <td>3</td>\n",
              "      <td>3</td>\n",
              "      <td>0</td>\n",
              "      <td>0</td>\n",
              "      <td>1</td>\n",
              "      <td>2</td>\n",
              "      <td>2</td>\n",
              "    </tr>\n",
              "    <tr>\n",
              "      <th>...</th>\n",
              "      <td>...</td>\n",
              "      <td>...</td>\n",
              "      <td>...</td>\n",
              "      <td>...</td>\n",
              "      <td>...</td>\n",
              "      <td>...</td>\n",
              "      <td>...</td>\n",
              "    </tr>\n",
              "    <tr>\n",
              "      <th>1723</th>\n",
              "      <td>1</td>\n",
              "      <td>1</td>\n",
              "      <td>3</td>\n",
              "      <td>2</td>\n",
              "      <td>1</td>\n",
              "      <td>2</td>\n",
              "      <td>1</td>\n",
              "    </tr>\n",
              "    <tr>\n",
              "      <th>1724</th>\n",
              "      <td>1</td>\n",
              "      <td>1</td>\n",
              "      <td>3</td>\n",
              "      <td>2</td>\n",
              "      <td>1</td>\n",
              "      <td>0</td>\n",
              "      <td>3</td>\n",
              "    </tr>\n",
              "    <tr>\n",
              "      <th>1725</th>\n",
              "      <td>1</td>\n",
              "      <td>1</td>\n",
              "      <td>3</td>\n",
              "      <td>2</td>\n",
              "      <td>0</td>\n",
              "      <td>1</td>\n",
              "      <td>2</td>\n",
              "    </tr>\n",
              "    <tr>\n",
              "      <th>1726</th>\n",
              "      <td>1</td>\n",
              "      <td>1</td>\n",
              "      <td>3</td>\n",
              "      <td>2</td>\n",
              "      <td>0</td>\n",
              "      <td>2</td>\n",
              "      <td>1</td>\n",
              "    </tr>\n",
              "    <tr>\n",
              "      <th>1727</th>\n",
              "      <td>1</td>\n",
              "      <td>1</td>\n",
              "      <td>3</td>\n",
              "      <td>2</td>\n",
              "      <td>0</td>\n",
              "      <td>0</td>\n",
              "      <td>3</td>\n",
              "    </tr>\n",
              "  </tbody>\n",
              "</table>\n",
              "<p>1728 rows × 7 columns</p>\n",
              "</div>"
            ],
            "text/plain": [
              "      buying  maint  doors  persons  lug_boot  safety  acceptability\n",
              "0          3      3      0        0         2       1              2\n",
              "1          3      3      0        0         2       2              2\n",
              "2          3      3      0        0         2       0              2\n",
              "3          3      3      0        0         1       1              2\n",
              "4          3      3      0        0         1       2              2\n",
              "...      ...    ...    ...      ...       ...     ...            ...\n",
              "1723       1      1      3        2         1       2              1\n",
              "1724       1      1      3        2         1       0              3\n",
              "1725       1      1      3        2         0       1              2\n",
              "1726       1      1      3        2         0       2              1\n",
              "1727       1      1      3        2         0       0              3\n",
              "\n",
              "[1728 rows x 7 columns]"
            ]
          },
          "metadata": {
            "tags": []
          },
          "execution_count": 6
        }
      ]
    },
    {
      "cell_type": "code",
      "metadata": {
        "id": "R5jnHr3V9Ek-",
        "colab_type": "code",
        "colab": {}
      },
      "source": [
        "targets = data[[\"acceptability\"]]\n",
        "features = data.iloc[:, data.columns != \"acceptability\"]"
      ],
      "execution_count": 7,
      "outputs": []
    },
    {
      "cell_type": "code",
      "metadata": {
        "id": "3xHtSqbUIn4G",
        "colab_type": "code",
        "colab": {}
      },
      "source": [
        "from sklearn.preprocessing import StandardScaler\n",
        "from sklearn import preprocessing\n",
        "sc = StandardScaler()\n",
        "sc.fit(features)\n",
        "features = sc.transform(features)"
      ],
      "execution_count": 8,
      "outputs": []
    },
    {
      "cell_type": "code",
      "metadata": {
        "id": "Crdavz6TI0R7",
        "colab_type": "code",
        "colab": {}
      },
      "source": [
        "train_data, test_data, train_targets, test_targets = train_test_split(features, targets, test_size = 0.3)"
      ],
      "execution_count": 9,
      "outputs": []
    },
    {
      "cell_type": "code",
      "metadata": {
        "id": "LTAuaEiXI9vV",
        "colab_type": "code",
        "colab": {}
      },
      "source": [
        "from keras.utils import to_categorical\n",
        "train_targets = to_categorical(train_targets)"
      ],
      "execution_count": 10,
      "outputs": []
    },
    {
      "cell_type": "code",
      "metadata": {
        "id": "wmIiyQyoIVX2",
        "colab_type": "code",
        "colab": {}
      },
      "source": [
        "classifier = Sequential()\n",
        "classifier.add(Dense(36, activation=\"relu\"))\n",
        "classifier.add(Dense(18, activation=\"relu\"))\n",
        "classifier.add(Dense(4, activation=\"softmax\"))\n",
        "classifier.compile(optimizer=\"adam\", loss=\"categorical_crossentropy\", metrics=[\"accuracy\"])"
      ],
      "execution_count": 11,
      "outputs": []
    },
    {
      "cell_type": "code",
      "metadata": {
        "id": "Ro8N7eD-Ibyq",
        "colab_type": "code",
        "colab": {
          "base_uri": "https://localhost:8080/",
          "height": 1000
        },
        "outputId": "58e9749b-bda3-4f65-c38f-8ec9bd583b1f"
      },
      "source": [
        "classifier.fit(train_data, train_targets, epochs=50)"
      ],
      "execution_count": 12,
      "outputs": [
        {
          "output_type": "stream",
          "text": [
            "Epoch 1/50\n",
            "1209/1209 [==============================] - 0s 323us/step - loss: 1.1966 - accuracy: 0.5012\n",
            "Epoch 2/50\n",
            "1209/1209 [==============================] - 0s 38us/step - loss: 0.9073 - accuracy: 0.7031\n",
            "Epoch 3/50\n",
            "1209/1209 [==============================] - 0s 39us/step - loss: 0.7475 - accuracy: 0.7146\n",
            "Epoch 4/50\n",
            "1209/1209 [==============================] - 0s 37us/step - loss: 0.6745 - accuracy: 0.7237\n",
            "Epoch 5/50\n",
            "1209/1209 [==============================] - 0s 38us/step - loss: 0.6311 - accuracy: 0.7312\n",
            "Epoch 6/50\n",
            "1209/1209 [==============================] - 0s 39us/step - loss: 0.5965 - accuracy: 0.7411\n",
            "Epoch 7/50\n",
            "1209/1209 [==============================] - 0s 36us/step - loss: 0.5663 - accuracy: 0.7527\n",
            "Epoch 8/50\n",
            "1209/1209 [==============================] - 0s 37us/step - loss: 0.5341 - accuracy: 0.7692\n",
            "Epoch 9/50\n",
            "1209/1209 [==============================] - 0s 37us/step - loss: 0.5038 - accuracy: 0.7808\n",
            "Epoch 10/50\n",
            "1209/1209 [==============================] - 0s 37us/step - loss: 0.4767 - accuracy: 0.8031\n",
            "Epoch 11/50\n",
            "1209/1209 [==============================] - 0s 37us/step - loss: 0.4504 - accuracy: 0.8122\n",
            "Epoch 12/50\n",
            "1209/1209 [==============================] - 0s 38us/step - loss: 0.4280 - accuracy: 0.8271\n",
            "Epoch 13/50\n",
            "1209/1209 [==============================] - 0s 43us/step - loss: 0.4045 - accuracy: 0.8428\n",
            "Epoch 14/50\n",
            "1209/1209 [==============================] - 0s 39us/step - loss: 0.3860 - accuracy: 0.8553\n",
            "Epoch 15/50\n",
            "1209/1209 [==============================] - 0s 38us/step - loss: 0.3670 - accuracy: 0.8627\n",
            "Epoch 16/50\n",
            "1209/1209 [==============================] - 0s 37us/step - loss: 0.3509 - accuracy: 0.8619\n",
            "Epoch 17/50\n",
            "1209/1209 [==============================] - 0s 40us/step - loss: 0.3355 - accuracy: 0.8759\n",
            "Epoch 18/50\n",
            "1209/1209 [==============================] - 0s 36us/step - loss: 0.3215 - accuracy: 0.8842\n",
            "Epoch 19/50\n",
            "1209/1209 [==============================] - 0s 35us/step - loss: 0.3072 - accuracy: 0.8908\n",
            "Epoch 20/50\n",
            "1209/1209 [==============================] - 0s 37us/step - loss: 0.2929 - accuracy: 0.8991\n",
            "Epoch 21/50\n",
            "1209/1209 [==============================] - 0s 35us/step - loss: 0.2801 - accuracy: 0.9024\n",
            "Epoch 22/50\n",
            "1209/1209 [==============================] - 0s 39us/step - loss: 0.2688 - accuracy: 0.9090\n",
            "Epoch 23/50\n",
            "1209/1209 [==============================] - 0s 38us/step - loss: 0.2578 - accuracy: 0.9148\n",
            "Epoch 24/50\n",
            "1209/1209 [==============================] - 0s 38us/step - loss: 0.2460 - accuracy: 0.9222\n",
            "Epoch 25/50\n",
            "1209/1209 [==============================] - 0s 39us/step - loss: 0.2347 - accuracy: 0.9247\n",
            "Epoch 26/50\n",
            "1209/1209 [==============================] - 0s 39us/step - loss: 0.2249 - accuracy: 0.9305\n",
            "Epoch 27/50\n",
            "1209/1209 [==============================] - 0s 37us/step - loss: 0.2140 - accuracy: 0.9289\n",
            "Epoch 28/50\n",
            "1209/1209 [==============================] - 0s 38us/step - loss: 0.2047 - accuracy: 0.9380\n",
            "Epoch 29/50\n",
            "1209/1209 [==============================] - 0s 37us/step - loss: 0.1953 - accuracy: 0.9404\n",
            "Epoch 30/50\n",
            "1209/1209 [==============================] - 0s 39us/step - loss: 0.1856 - accuracy: 0.9421\n",
            "Epoch 31/50\n",
            "1209/1209 [==============================] - 0s 36us/step - loss: 0.1790 - accuracy: 0.9471\n",
            "Epoch 32/50\n",
            "1209/1209 [==============================] - 0s 36us/step - loss: 0.1706 - accuracy: 0.9471\n",
            "Epoch 33/50\n",
            "1209/1209 [==============================] - 0s 37us/step - loss: 0.1619 - accuracy: 0.9586\n",
            "Epoch 34/50\n",
            "1209/1209 [==============================] - 0s 38us/step - loss: 0.1556 - accuracy: 0.9644\n",
            "Epoch 35/50\n",
            "1209/1209 [==============================] - 0s 45us/step - loss: 0.1479 - accuracy: 0.9653\n",
            "Epoch 36/50\n",
            "1209/1209 [==============================] - 0s 37us/step - loss: 0.1411 - accuracy: 0.9702\n",
            "Epoch 37/50\n",
            "1209/1209 [==============================] - 0s 38us/step - loss: 0.1359 - accuracy: 0.9694\n",
            "Epoch 38/50\n",
            "1209/1209 [==============================] - 0s 39us/step - loss: 0.1292 - accuracy: 0.9719\n",
            "Epoch 39/50\n",
            "1209/1209 [==============================] - 0s 39us/step - loss: 0.1243 - accuracy: 0.9752\n",
            "Epoch 40/50\n",
            "1209/1209 [==============================] - 0s 39us/step - loss: 0.1174 - accuracy: 0.9793\n",
            "Epoch 41/50\n",
            "1209/1209 [==============================] - 0s 38us/step - loss: 0.1138 - accuracy: 0.9793\n",
            "Epoch 42/50\n",
            "1209/1209 [==============================] - 0s 39us/step - loss: 0.1074 - accuracy: 0.9777\n",
            "Epoch 43/50\n",
            "1209/1209 [==============================] - 0s 45us/step - loss: 0.1030 - accuracy: 0.9843\n",
            "Epoch 44/50\n",
            "1209/1209 [==============================] - 0s 42us/step - loss: 0.0992 - accuracy: 0.9826\n",
            "Epoch 45/50\n",
            "1209/1209 [==============================] - 0s 42us/step - loss: 0.0960 - accuracy: 0.9859\n",
            "Epoch 46/50\n",
            "1209/1209 [==============================] - 0s 39us/step - loss: 0.0942 - accuracy: 0.9818\n",
            "Epoch 47/50\n",
            "1209/1209 [==============================] - 0s 38us/step - loss: 0.0891 - accuracy: 0.9835\n",
            "Epoch 48/50\n",
            "1209/1209 [==============================] - 0s 41us/step - loss: 0.0859 - accuracy: 0.9826\n",
            "Epoch 49/50\n",
            "1209/1209 [==============================] - 0s 36us/step - loss: 0.0826 - accuracy: 0.9859\n",
            "Epoch 50/50\n",
            "1209/1209 [==============================] - 0s 37us/step - loss: 0.0803 - accuracy: 0.9892\n"
          ],
          "name": "stdout"
        },
        {
          "output_type": "execute_result",
          "data": {
            "text/plain": [
              "<keras.callbacks.callbacks.History at 0x7f3dd3a70080>"
            ]
          },
          "metadata": {
            "tags": []
          },
          "execution_count": 12
        }
      ]
    },
    {
      "cell_type": "code",
      "metadata": {
        "id": "odfIe9LKIhGC",
        "colab_type": "code",
        "colab": {}
      },
      "source": [
        "pred_targets = classifier.predict_classes(test_data)"
      ],
      "execution_count": 13,
      "outputs": []
    },
    {
      "cell_type": "code",
      "metadata": {
        "id": "-eIecA6zJdch",
        "colab_type": "code",
        "colab": {
          "base_uri": "https://localhost:8080/",
          "height": 35
        },
        "outputId": "dbb4c569-b8a0-4aab-e935-d98c1f8552fe"
      },
      "source": [
        "accuracy_score(pred_targets, test_targets)"
      ],
      "execution_count": 14,
      "outputs": [
        {
          "output_type": "execute_result",
          "data": {
            "text/plain": [
              "0.9710982658959537"
            ]
          },
          "metadata": {
            "tags": []
          },
          "execution_count": 14
        }
      ]
    },
    {
      "cell_type": "code",
      "metadata": {
        "id": "4gSwmATXMcSS",
        "colab_type": "code",
        "colab": {
          "base_uri": "https://localhost:8080/",
          "height": 35
        },
        "outputId": "4329dfc5-eb1c-445a-d4f9-67a54242445e"
      },
      "source": [
        "features.shape"
      ],
      "execution_count": 15,
      "outputs": [
        {
          "output_type": "execute_result",
          "data": {
            "text/plain": [
              "(1728, 6)"
            ]
          },
          "metadata": {
            "tags": []
          },
          "execution_count": 15
        }
      ]
    },
    {
      "cell_type": "code",
      "metadata": {
        "id": "IAXU4kZ2Ml8U",
        "colab_type": "code",
        "colab": {
          "base_uri": "https://localhost:8080/",
          "height": 35
        },
        "outputId": "330b1641-99e7-4c47-ec73-86d43f852ef5"
      },
      "source": [
        "train_targets.shape"
      ],
      "execution_count": 16,
      "outputs": [
        {
          "output_type": "execute_result",
          "data": {
            "text/plain": [
              "(1209, 4)"
            ]
          },
          "metadata": {
            "tags": []
          },
          "execution_count": 16
        }
      ]
    },
    {
      "cell_type": "code",
      "metadata": {
        "id": "4OUp63paOwY4",
        "colab_type": "code",
        "colab": {}
      },
      "source": [
        "classifier = Sequential()\n",
        "classifier.add(Dense(36, activation=\"relu\"))\n",
        "classifier.add(Dense(18, activation=\"relu\"))\n",
        "classifier.add(Dense(4, activation=\"softmax\"))\n",
        "classifier.compile(optimizer=\"adam\", loss=\"categorical_crossentropy\", metrics=[\"accuracy\"])"
      ],
      "execution_count": 17,
      "outputs": []
    },
    {
      "cell_type": "code",
      "metadata": {
        "id": "D6biK9udMOO-",
        "colab_type": "code",
        "colab": {
          "base_uri": "https://localhost:8080/",
          "height": 295
        },
        "outputId": "0213a403-d0fb-4d91-d0fc-bf60c821d599"
      },
      "source": [
        "history = classifier.fit(train_data, train_targets, validation_split = 0.3, epochs = 200, verbose = 0)\n",
        "import matplotlib.pyplot as plt\n",
        "plt.plot(history.history['accuracy'])\n",
        "plt.plot(history.history['val_accuracy'])\n",
        "plt.title('model accuracy')\n",
        "plt.ylabel('accuracy')\n",
        "plt.xlabel('epoch')\n",
        "plt.legend(['train', 'validation'], loc='upper left')\n",
        "plt.show()"
      ],
      "execution_count": 18,
      "outputs": [
        {
          "output_type": "display_data",
          "data": {
            "image/png": "[encoded data removed]",
            "text/plain": [
              "<Figure size 432x288 with 1 Axes>"
            ]
          },
          "metadata": {
            "tags": [],
            "needs_background": "light"
          }
        }
      ]
    }
  ]
}