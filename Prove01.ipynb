{
  "nbformat": 4,
  "nbformat_minor": 0,
  "metadata": {
    "colab": {
      "name": "Prove01.ipynb",
      "provenance": [],
      "authorship_tag": "ABX9TyO/Jj6VkAPYJc+AI1lcpk06"
    },
    "kernelspec": {
      "name": "python3",
      "display_name": "Python 3"
    }
  },
  "cells": [
    {
      "cell_type": "code",
      "metadata": {
        "id": "9S06YFzor27J",
        "colab_type": "code",
        "colab": {}
      },
      "source": [
        "import pandas as pd\n",
        "import numpy as np\n",
        "from sklearn.model_selection import train_test_split"
      ],
      "execution_count": 0,
      "outputs": []
    },
    {
      "cell_type": "markdown",
      "metadata": {
        "id": "PeTs-Mw4Qnd6",
        "colab_type": "text"
      },
      "source": [
        "1. Load the provided Iris data"
      ]
    },
    {
      "cell_type": "code",
      "metadata": {
        "id": "uLosegZZsQ6O",
        "colab_type": "code",
        "colab": {}
      },
      "source": [
        "iris = pd.read_csv(\"https://byui-cs.github.io/cs450-course/week01/iris.data\")"
      ],
      "execution_count": 0,
      "outputs": []
    },
    {
      "cell_type": "markdown",
      "metadata": {
        "id": "MjwKnlAWQvk0",
        "colab_type": "text"
      },
      "source": [
        "2. Randomly sort the list of samples, then split the data up into training data and test data. (I would recommend putting 70% of your data into the training dataset)"
      ]
    },
    {
      "cell_type": "code",
      "metadata": {
        "id": "ulaxmllfufXu",
        "colab_type": "code",
        "colab": {}
      },
      "source": [
        "iris_random = iris.sample(frac = 1)\n",
        "#training_data = iris_random[0:104]\n",
        "#test_data = iris_random[105:]\n",
        "\n",
        "features = iris_random[[\"sepal_length\",  \"sepal_width\",  \"petal_length\",  \"petal_width\"]]\n",
        "targets = iris_random[\"species\"]\n",
        "\n",
        "# Randomize and split the samples into two groups. \n",
        "# 30% of the samples will be used for testing.\n",
        "# The other 70% will be used for training.\n",
        "train_data, test_data, train_targets, test_targets = train_test_split(features, targets, test_size=.3)\n"
      ],
      "execution_count": 0,
      "outputs": []
    },
    {
      "cell_type": "markdown",
      "metadata": {
        "id": "R3_Yq56jQ4W3",
        "colab_type": "text"
      },
      "source": [
        "3. Create a class called HardCodedClassifier.\n",
        "4. Add a fit method to the class that takes the training data and a list of targets and saves those as member variables.\n",
        "5. Add a predict function to the class that takes the test data, and saves it as a member variable. This function will return a list of predictions, one for each sample in the test data."
      ]
    },
    {
      "cell_type": "code",
      "metadata": {
        "id": "gPA_iCNsQ8AT",
        "colab_type": "code",
        "colab": {}
      },
      "source": [
        "class HardCodedClassifier():\n",
        "  def __init__(self):\n",
        "    self.data = []\n",
        "    self.targets = []\n",
        "\n",
        "  def fit(self, data, targets):\n",
        "    self.data = data\n",
        "    self.targets = targets\n",
        "\n",
        "  def predict(self, data):\n",
        "    predictions = []\n",
        "    for i in data:\n",
        "      for x in i:\n",
        "        predictions.append(\"Iris-setosa\")\n",
        "    return predictions\n",
        "\n",
        "  def accuracy_score(self, predictions, targets):\n",
        "    score = 0\n",
        "    counter = 0\n",
        "    for x, y in zip(predictions, targets):\n",
        "      if x == y:\n",
        "        score +=1\n",
        "      counter += 1\n",
        "    return score / counter\n"
      ],
      "execution_count": 0,
      "outputs": []
    },
    {
      "cell_type": "markdown",
      "metadata": {
        "id": "dBFe889aZ0MX",
        "colab_type": "text"
      },
      "source": [
        "6. Finally, take the list of predictions and compare them to the actual targets of the test data in order to generate an accuracy score. In my example, if half of the samples in the test data really were \"Iris-setosa\", the accuracy score should be 50% (since the classifier predicted \"Iris-setosa\" for every sample).\n"
      ]
    },
    {
      "cell_type": "code",
      "metadata": {
        "id": "VZFnzo-iYnQ7",
        "colab_type": "code",
        "colab": {}
      },
      "source": [
        "my_classifier = HardCodedClassifier()\n",
        "predictions = my_classifier.predict(test_data)\n"
      ],
      "execution_count": 0,
      "outputs": []
    },
    {
      "cell_type": "code",
      "metadata": {
        "id": "rgwcy8X4cjM9",
        "colab_type": "code",
        "colab": {
          "base_uri": "https://localhost:8080/",
          "height": 35
        },
        "outputId": "11e1bb89-bac4-45d3-ebb1-b4621ee45464"
      },
      "source": [
        "accuracy = my_classifier.accuracy_score(predictions, test_targets)\n",
        "print(accuracy)"
      ],
      "execution_count": 268,
      "outputs": [
        {
          "output_type": "stream",
          "text": [
            "0.4\n"
          ],
          "name": "stdout"
        }
      ]
    }
  ]
}