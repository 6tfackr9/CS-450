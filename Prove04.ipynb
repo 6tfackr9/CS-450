{
  "nbformat": 4,
  "nbformat_minor": 0,
  "metadata": {
    "colab": {
      "name": "Prove0402.ipynb",
      "provenance": [],
      "authorship_tag": "ABX9TyNo0LWFxI+aN30kTTRrdzgN",
      "include_colab_link": true
    },
    "kernelspec": {
      "name": "python3",
      "display_name": "Python 3"
    }
  },
  "cells": [
    {
      "cell_type": "markdown",
      "metadata": {
        "id": "view-in-github",
        "colab_type": "text"
      },
      "source": [
        "<a href=\"https://colab.research.google.com/github/6tfackr9/CS-450/blob/master/Prove04.ipynb\" target=\"_parent\"><img src=\"https://colab.research.google.com/assets/colab-badge.svg\" alt=\"Open In Colab\"/></a>"
      ]
    },
    {
      "cell_type": "markdown",
      "metadata": {
        "id": "PVTeoMWe_79i",
        "colab_type": "text"
      },
      "source": [
        "#Assignmnet Prove 04\n",
        "##Tanner Fackrell"
      ]
    },
    {
      "cell_type": "markdown",
      "metadata": {
        "id": "Ex-SigTxZBX9",
        "colab_type": "text"
      },
      "source": [
        "I chose the voting, credit screening and Iris datasets. The voting and credit screening will be used for classification while the Iris data set will be used for regression."
      ]
    },
    {
      "cell_type": "markdown",
      "metadata": {
        "id": "RVjLfXhsb1uA",
        "colab_type": "text"
      },
      "source": [
        "####Import libraries"
      ]
    },
    {
      "cell_type": "code",
      "metadata": {
        "id": "jLxsqwxeac6x",
        "colab_type": "code",
        "colab": {}
      },
      "source": [
        "from sklearn.model_selection import cross_val_score\n",
        "from sklearn.tree import DecisionTreeClassifier\n",
        "from sklearn.model_selection import train_test_split\n",
        "from sklearn.metrics import accuracy_score\n",
        "from sklearn import tree\n",
        "import pandas as pd\n",
        "import numpy as np\n",
        "import matplotlib.pyplot as plt\n",
        "\n"
      ],
      "execution_count": 0,
      "outputs": []
    },
    {
      "cell_type": "markdown",
      "metadata": {
        "id": "vo391BVhaL2Y",
        "colab_type": "text"
      },
      "source": [
        "##Voting Data"
      ]
    },
    {
      "cell_type": "markdown",
      "metadata": {
        "id": "jOUl0T5g_6oH",
        "colab_type": "text"
      },
      "source": [
        "The First Data set I chose was the voting dataset. The goal here is to predict if a member of congress is a member of the republican or democratic party based on their voting records. It is entirely categorical data and has missing data. You can't really guess what the person is going to vote because each party will tend to vote a certain way. I decided to just keep them as unknown and for the algorithm to take this into account. Since this data is entirely categorical and there are 18 columns with only two different options in each column, I felt that one-hot encoding just did not make sense, it would leave too many columns in the data. I chose to use label encoding which would simply be a 1 or 0 speneding on if the person voted yes or no. After tryinng different depths for the tree, I found that a depth of 2 seemed to work the best. I was able to visualize the tree showing which voting issues provided the best entropy."
      ]
    },
    {
      "cell_type": "markdown",
      "metadata": {
        "id": "q9oCHVDzeDet",
        "colab_type": "text"
      },
      "source": [
        "### Voting Data Code"
      ]
    },
    {
      "cell_type": "code",
      "metadata": {
        "colab_type": "code",
        "id": "_bLXRunabbXb",
        "colab": {}
      },
      "source": [
        "voting_columns = [\"Class Name\", \"handicapped-infants\", \n",
        "                  \"water-project-cost-sharing\", \"adoption-of-the-budget-resolution\",\n",
        "                  \"physician-fee-freeze\", \"el-salvador-aid\", \"religious-groups-in-schools\", \n",
        "                  \"anti-satellite-test-ban\", \"aid-to-nicaraguan-contras\", \"mx-missile\", \"immigration\",\n",
        "                  \"synfuels-corporation-cutback\", \"education-spending\", \"superfund-right-to-sue\", \n",
        "                  \"crime\", \"duty-free-exports\", \"export-administration-act-south-africa\"]\n",
        "\n",
        "voting = pd.read_csv(\"https://archive.ics.uci.edu/ml/machine-learning-databases/voting-records/house-votes-84.data\", \n",
        "                     names = voting_columns)\n",
        "\n",
        "num_missing = (voting.iloc[:,:] == '?').sum()\n",
        "voting = voting.replace('?', \"Unknown\")\n",
        "\n",
        "targets = voting[[\"Class Name\"]]\n",
        "features = voting.iloc[:, 1:18]\n",
        "features = features.astype('category')\n",
        "for (columnName, columnData) in features.iteritems():\n",
        "    features[columnName] = features[columnName].cat.codes\n"
      ],
      "execution_count": 0,
      "outputs": []
    },
    {
      "cell_type": "code",
      "metadata": {
        "id": "-VsWKzZObl4G",
        "colab_type": "code",
        "colab": {}
      },
      "source": [
        "\n",
        "f_names =  [\"handicapped-infants\", \n",
        "                  \"water-project-cost-sharing\", \"adoption-of-the-budget-resolution\",\n",
        "                  \"physician-fee-freeze\", \"el-salvador-aid\", \"religious-groups-in-schools\", \n",
        "                  \"anti-satellite-test-ban\", \"aid-to-nicaraguan-contras\", \"mx-missile\", \"immigration\",\n",
        "                  \"synfuels-corporation-cutback\", \"education-spending\", \"superfund-right-to-sue\", \n",
        "                  \"crime\", \"duty-free-exports\", \"export-administration-act-south-africa\"]\n",
        "\n",
        "c_names = [\"Democrat\", \"Republican\"]\n",
        "\n",
        "\n",
        "train_data, test_data, train_targets, test_targets = train_test_split(features, targets, test_size=.3)\n",
        "my_tree = DecisionTreeClassifier(random_state = 0, max_depth = 2, criterion = 'entropy')\n",
        "my_tree.fit(train_data, train_targets)\n",
        "#predictions = my_tree.predict(test_data, test_targets)\n",
        "my_scores = cross_val_score(my_tree, features, targets, cv=10)\n",
        "#print(\"Accuracy: %0.2f (+/- %0.2f)\" % (my_scores.mean(), my_scores.std() * 2))\n",
        "#tree.plot_tree(fitted_tree)\n"
      ],
      "execution_count": 0,
      "outputs": []
    },
    {
      "cell_type": "markdown",
      "metadata": {
        "id": "ZfvB9H0yd57g",
        "colab_type": "text"
      },
      "source": [
        "###Prediction results for the voting Dataset"
      ]
    },
    {
      "cell_type": "code",
      "metadata": {
        "id": "vTKaACYWd3Mp",
        "colab_type": "code",
        "colab": {}
      },
      "source": [
        "predictions = my_tree.predict(test_data)\n",
        "score = accuracy_score(predictions, test_targets)\n",
        "print(\"The prediction accuracy is {:.2f}%\".format(score*100))"
      ],
      "execution_count": 0,
      "outputs": []
    },
    {
      "cell_type": "code",
      "metadata": {
        "id": "fCJ-nOonaezp",
        "colab_type": "code",
        "colab": {
          "base_uri": "https://localhost:8080/",
          "height": 535
        },
        "outputId": "f1559a67-9a04-4a25-c6f2-d542a5fd4b11"
      },
      "source": [
        "# I learned how to size the tree from \n",
        "#https://towardsdatascience.com/visualizing-decision-trees-with-python-scikit-learn-graphviz-matplotlib-1c50b4aa68dc\n",
        "fig, axes = plt.subplots(nrows = 1,ncols = 1,figsize = (4,2.25), dpi=200)\n",
        "tree.plot_tree(my_tree, feature_names = f_names, class_names = c_names)"
      ],
      "execution_count": 33,
      "outputs": [
        {
          "output_type": "stream",
          "text": [
            "The prediction accuracy is 95.42%\n"
          ],
          "name": "stdout"
        },
        {
          "output_type": "execute_result",
          "data": {
            "text/plain": [
              "[Text(310.0, 283.125, 'physician-fee-freeze <= 1.5\\nentropy = 0.961\\nsamples = 304\\nvalue = [187, 117]\\nclass = Democrat'),\n",
              " Text(155.0, 169.875, 'adoption-of-the-budget-resolution <= 1.5\\nentropy = 0.152\\nsamples = 182\\nvalue = [178, 4]\\nclass = Democrat'),\n",
              " Text(77.5, 56.625, 'entropy = 0.619\\nsamples = 26\\nvalue = [22, 4]\\nclass = Democrat'),\n",
              " Text(232.5, 56.625, 'entropy = 0.0\\nsamples = 156\\nvalue = [156, 0]\\nclass = Democrat'),\n",
              " Text(465.0, 169.875, 'synfuels-corporation-cutback <= 1.5\\nentropy = 0.38\\nsamples = 122\\nvalue = [9, 113]\\nclass = Republican'),\n",
              " Text(387.5, 56.625, 'entropy = 0.08\\nsamples = 101\\nvalue = [1, 100]\\nclass = Republican'),\n",
              " Text(542.5, 56.625, 'entropy = 0.959\\nsamples = 21\\nvalue = [8, 13]\\nclass = Republican')]"
            ]
          },
          "metadata": {
            "tags": []
          },
          "execution_count": 33
        },
        {
          "output_type": "display_data",
          "data": {
            "image/png": "[encoded data removed]",
            "text/plain": [
              "<Figure size 800x450 with 1 Axes>"
            ]
          },
          "metadata": {
            "tags": [],
            "needs_background": "light"
          }
        }
      ]
    },
    {
      "cell_type": "markdown",
      "metadata": {
        "id": "jGAMx1QtdUJ8",
        "colab_type": "text"
      },
      "source": [
        "To do list experiment on this one with the numerical columns to see if I can put in some averages.\n"
      ]
    },
    {
      "cell_type": "markdown",
      "metadata": {
        "id": "IpwSJDneeq2h",
        "colab_type": "text"
      },
      "source": [
        "## Credit Screening Data"
      ]
    },
    {
      "cell_type": "markdown",
      "metadata": {
        "id": "qeu01Qu6fYXQ",
        "colab_type": "text"
      },
      "source": [
        "The goal for this data is to predict if it is a good idea to give out a bank loan based on the credit history of a client. There was not very much data missing in this dataset so I chose to simply get rid of the rows that contatined missing data. This left a lot of data still in the dataset. This data was a mix of categorical and numeric data. I felt that it was appropriate to use one-hot encoding for the categorical data. I also found that using a tree depth of 3 seemed to provide the best results after trying a few different depths."
      ]
    },
    {
      "cell_type": "markdown",
      "metadata": {
        "id": "xlGw5bMlemW-",
        "colab_type": "text"
      },
      "source": [
        "### Credit Screening Code"
      ]
    },
    {
      "cell_type": "code",
      "metadata": {
        "id": "aJveiry8soa9",
        "colab_type": "code",
        "outputId": "6c69d4af-9b09-4caa-b71f-a077949dbb96",
        "colab": {
          "base_uri": "https://localhost:8080/",
          "height": 72
        }
      },
      "source": [
        "credit_columns = [\"A1\", \"A2\", \"A3\", \"A4\", \"A5\", \"A6\", \"A7\", \"A8\", \"A9\",\n",
        "                  \"A10\", \"A11\", \"A12\", \"A13\", \"A14\", \"A15\", \"A16\"]\n",
        "\n",
        "credit = pd.read_csv(\"https://archive.ics.uci.edu/ml/machine-learning-databases/credit-screening/crx.data\", \n",
        "                     names = credit_columns)\n",
        "\n",
        "credit_num_missing = (credit.iloc[:,:] == '?').sum()\n",
        "credit_num_missing\n",
        "credit = credit.replace('?', np.nan)\n",
        "credit2 = credit.dropna()\n",
        "# There is really not that much data missing, so it is safe to remove the NAs\n",
        "# We will try a one hot encoding here\n",
        "credit3 = pd.get_dummies(credit2, columns=[\"A1\", \"A3\", \"A4\", \"A5\", \"A6\", \"A7\", \"A9\",\n",
        "                                           \"A10\", \"A12\", \"A13\"])\n",
        "credit_targets = credit3[[\"A16\"]]\n",
        "credit_features = credit3.iloc[:, credit3.columns != \"A16\"]\n",
        "\n",
        "train_data, test_data, train_targets, test_targets = train_test_split(credit_features, credit_targets, test_size=.3)\n",
        "my_tree = DecisionTreeClassifier(random_state = 0, max_depth = 3)\n",
        "my_tree.fit(train_data, train_targets)"
      ],
      "execution_count": 0,
      "outputs": [
        {
          "output_type": "stream",
          "text": [
            "/usr/local/lib/python3.6/dist-packages/pandas/core/ops/array_ops.py:253: FutureWarning: elementwise comparison failed; returning scalar instead, but in the future will perform elementwise comparison\n",
            "  res_values = method(rvalues)\n"
          ],
          "name": "stderr"
        }
      ]
    },
    {
      "cell_type": "markdown",
      "metadata": {
        "id": "KUb5PKIxfCcH",
        "colab_type": "text"
      },
      "source": [
        "### Prediction Results for Credit Screening Dataset"
      ]
    },
    {
      "cell_type": "code",
      "metadata": {
        "id": "bFMAkOT5ezWY",
        "colab_type": "code",
        "colab": {}
      },
      "source": [
        "predictions = my_tree.predict(test_data)\n",
        "accuracy_score(predictions, test_targets)\n",
        "print(\"The accuracy for credit screeings is {:.2f}%\".format(accuracy_score * 100))"
      ],
      "execution_count": 0,
      "outputs": []
    },
    {
      "cell_type": "markdown",
      "metadata": {
        "id": "gnl62ekRgKOX",
        "colab_type": "text"
      },
      "source": [
        "##Iris Data"
      ]
    },
    {
      "cell_type": "markdown",
      "metadata": {
        "id": "OGto5Z_ugfX1",
        "colab_type": "text"
      },
      "source": [
        "In the past we used this dataset to classify the type of iris, but for this exercise I decided to use regression to predict the sepal length. Of the three datasets chosen this one was the most straight forward. The data was mostly numeric, with one column of categorical. I used label encoding to handle the categories."
      ]
    },
    {
      "cell_type": "markdown",
      "metadata": {
        "id": "F9D1yVYNgM0G",
        "colab_type": "text"
      },
      "source": [
        "###Iris Code"
      ]
    },
    {
      "cell_type": "code",
      "metadata": {
        "id": "T6XuB4Mr_y_5",
        "colab_type": "code",
        "colab": {}
      },
      "source": [
        "iris_columns = [\"sepal length\", \"sepal width\", \"petal length\", \"petal width\", \"class\"]\n",
        "\n",
        "iris = pd.read_csv(\"https://archive.ics.uci.edu/ml/machine-learning-databases/iris/iris.data\",\n",
        "                   names = iris_columns)\n",
        "\n",
        "iris_tree = DecisionTreeRegressor(max_depth = 2)\n",
        "iris[\"class\"] = iris[\"class\"].astype('category')\n",
        "    iris[\"class\"] = iris[\"class\"].cat.codes\n",
        "\n",
        "iris_targets = iris[[\"sepal length\"]]\n",
        "iris_features = iris.iloc[:, iris.columns != \"sepal length\"]\n",
        "\n",
        "train_data, test_data, train_targets, test_targets = train_test_split(iris_features, iris_targets, test_size=.3)\n",
        "iris_tree.fit(train_data, train_targets)\n",
        "predictions = iris_tree.predict(test_data)\n"
      ],
      "execution_count": 0,
      "outputs": []
    },
    {
      "cell_type": "markdown",
      "metadata": {
        "id": "0euGH_-kgYd7",
        "colab_type": "text"
      },
      "source": [
        "###Iris Prediction Results"
      ]
    },
    {
      "cell_type": "code",
      "metadata": {
        "id": "tWEmebHwgV8O",
        "colab_type": "code",
        "colab": {}
      },
      "source": [
        "mean_error = mean_squared_error(predictions, test_targets)\n",
        "print(\"The Mean Square Error is: {}\".format(mean_error))"
      ],
      "execution_count": 0,
      "outputs": []
    },
    {
      "cell_type": "markdown",
      "metadata": {
        "id": "nYOV1LJAgVVM",
        "colab_type": "text"
      },
      "source": [
        "I believe that my work on this assignment is best represented by a 5. I used three different datasets which between them had missing data, categorical data and numeric data. I also found opportunities to use classification and regression. I went above and beyond by providing a visualization of the voting dataset. I also experiemented with implementing the algorithm in different ways including changing the haight of the tree. \n",
        "\n",
        "Here is the link to my full code:"
      ]
    }
  ]
}