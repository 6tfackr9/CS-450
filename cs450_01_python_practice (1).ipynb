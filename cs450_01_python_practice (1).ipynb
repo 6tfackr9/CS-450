{
  "nbformat": 4,
  "nbformat_minor": 0,
  "metadata": {
    "kernelspec": {
      "display_name": "Python 3",
      "language": "python",
      "name": "python3"
    },
    "language_info": {
      "codemirror_mode": {
        "name": "ipython",
        "version": 3
      },
      "file_extension": ".py",
      "mimetype": "text/x-python",
      "name": "python",
      "nbconvert_exporter": "python",
      "pygments_lexer": "ipython3",
      "version": "3.7.1"
    },
    "colab": {
      "name": "cs450_01_python_practice.ipynb",
      "provenance": []
    }
  },
  "cells": [
    {
      "cell_type": "markdown",
      "metadata": {
        "id": "VncYBozmpDFY",
        "colab_type": "text"
      },
      "source": [
        "# CSE 450 - Teach 01\n",
        "This activity is designed to be completed in teams during class time.\n",
        "\n",
        "In this activity you'll be practicing elements of Python that will be useful in your programming this semester.\n",
        "\n",
        "You've been hired by ACE Ice Cream Inc. to study their sales data. They suspect that ice cream sales are positively correlated with the temperature, meaning that when the temperature increases, so do ice cream sales. They would like to quantify this.\n",
        "\n"
      ]
    },
    {
      "cell_type": "markdown",
      "metadata": {
        "id": "uTQqtrEqltYV",
        "colab_type": "text"
      },
      "source": [
        "## Part I: Build the Class"
      ]
    },
    {
      "cell_type": "markdown",
      "metadata": {
        "id": "E2xkUxeWpBiA",
        "colab_type": "text"
      },
      "source": [
        ""
      ]
    },
    {
      "cell_type": "markdown",
      "metadata": {
        "id": "BuuePX4qltYX",
        "colab_type": "text"
      },
      "source": [
        "1: First, create a python class called `SimpleCorrelator` that has the following methods:\n",
        "\n",
        "* A constructor that takes two arguments, `x` and `y` and stores them as member variables.\n",
        "* A method called `x` which will return the x data.\n",
        "* A method called `y` which will return the y data.\n"
      ]
    },
    {
      "cell_type": "code",
      "metadata": {
        "id": "UUwr3EUfltYY",
        "colab_type": "code",
        "colab": {}
      },
      "source": [
        "import numpy as np\n",
        "\n",
        "class SimpleCorrelator:\n",
        "  def __init__(self, x, y):\n",
        "    self.x = x\n",
        "    self.y = y\n",
        "\n",
        "  def __repr__(self):\n",
        "    return self.data_summary()\n",
        "\n",
        "  def x(self):\n",
        "    return self.x\n",
        "\n",
        "  def y(self):\n",
        "    return self.y\n",
        "\n",
        "  def data_summary(self):\n",
        "    x_size = np.size(self.x)\n",
        "    x_mean = np.mean(self.x)\n",
        "    x_variance = np.var(self.x)\n",
        "    x_stdev = np.std(self.x)\n",
        "    y_size = np.size(self.y)\n",
        "    y_mean = np.mean(self.y)\n",
        "    y_variance = np.var(self.y)\n",
        "    y_stdev = np.std(self.y)\n",
        "    my_summary = \"X - Summary\\n\\tsize: {:.2f}, mean: {:.2f}, variance: {:.2f}, stdev: {:.2f}\\nY-Summary\\n\\tsize: {:.2f}, mean: {:.2f}, variance: {:.2f}, stdev: {:.2f}\".format(x_size, x_mean, x_variance, x_stdev, y_size, y_mean, y_variance, y_stdev)\n",
        "    return my_summary\n",
        "\n",
        "  def correlation(self):\n",
        "    cor = np.corrcoef(sales, temps)\n",
        "    return round(cor[1][0], 2)\n",
        "\n"
      ],
      "execution_count": 0,
      "outputs": []
    },
    {
      "cell_type": "markdown",
      "metadata": {
        "id": "cIlfvPv1ltYd",
        "colab_type": "text"
      },
      "source": [
        "2: Create numpy arrays containing `sales` and `temperature` data:"
      ]
    },
    {
      "cell_type": "code",
      "metadata": {
        "id": "oGhIvHGeltYe",
        "colab_type": "code",
        "colab": {}
      },
      "source": [
        "# sales\n",
        "sales = np.array([464.37,520.38,531.62,532.25,605.11,649.96,\n",
        "                  432.75,438.40,410.72,598.27,437.15,441.57,\n",
        "                  873.65,517.76,540.26,619.77,794.61,617.84,\n",
        "                  351.75,727.77,504.56,564.19,697.12,461.50,\n",
        "                  847.23,240.27,597.32,846.17,703.07,718.93,\n",
        "                  622.53,544.62,510.13,608.06,597.89,487.62,\n",
        "                  544.40,459.84,372.08,614.82,510.07,738.32,\n",
        "                  756.48,360.73,271.03,533.69,586.78,743.36,\n",
        "                  471.53,579.69])\n",
        "\n",
        "\n",
        "# temperatures\n",
        "temps = np.array([73.75,66.56,87.54,78.79,82.35,80.50,\n",
        "                  76.09,74.13,74.83,76.13,76.41,72.08,\n",
        "                  86.30,72.82,75.10,81.44,84.11,85.19,\n",
        "                  70.34,81.89,78.31,78.35,89.29,77.31,\n",
        "                  84.41,71.94,80.34,90.42,83.31,83.32,\n",
        "                  76.81,74.50,73.16,77.07,81.04,77.14,\n",
        "                  75.20,70.03,72.63,80.29,66.07,82.50,\n",
        "                  83.00,69.97,61.72,77.11,76.07,85.83,\n",
        "                  72.72,75.16])"
      ],
      "execution_count": 0,
      "outputs": []
    },
    {
      "cell_type": "markdown",
      "metadata": {
        "id": "xACyVDD5ltYi",
        "colab_type": "text"
      },
      "source": [
        "3: Create an instance of your `SimpleCorrelator` class, passing in your `sales` and `temps` data as `x` and `y`, respectively."
      ]
    },
    {
      "cell_type": "code",
      "metadata": {
        "id": "1c-gzvczltYj",
        "colab_type": "code",
        "colab": {}
      },
      "source": [
        "simple = SimpleCorrelator(sales, temps)"
      ],
      "execution_count": 0,
      "outputs": []
    },
    {
      "cell_type": "markdown",
      "metadata": {
        "id": "ug8q4mB9ltYs",
        "colab_type": "text"
      },
      "source": [
        "## Part 2 - CREATE SOME STATISTICAL FUNCTIONS"
      ]
    },
    {
      "cell_type": "markdown",
      "metadata": {
        "id": "kRoqhvvBltYs",
        "colab_type": "text"
      },
      "source": [
        "1: Add a `data_summary` method to your `SimpleCorrelator` class that will calculate and return a string containing the size, mean, median, mode, variance, and standard deviation of both the x and y datasets. \n",
        "\n",
        "You should use `numpy` methods to calculate these statistics.\n",
        "\n",
        "Print out the results of the `data_summary` method to make sure it works as expected."
      ]
    },
    {
      "cell_type": "code",
      "metadata": {
        "id": "I5uYsWMiltYs",
        "colab_type": "code",
        "outputId": "2308b4f7-b2bf-4da7-b9e5-f51dcf1c42fc",
        "colab": {
          "base_uri": "https://localhost:8080/",
          "height": 87
        }
      },
      "source": [
        "print(simple.data_summary())"
      ],
      "execution_count": 106,
      "outputs": [
        {
          "output_type": "stream",
          "text": [
            "X - Summary\n",
            "\tsize: 50.00, mean: 564.00, variance: 19767.83, stdev: 140.60\n",
            "Y-Summary\n",
            "\tsize: 50.00, mean: 77.63, variance: 36.04, stdev: 6.00\n"
          ],
          "name": "stdout"
        }
      ]
    },
    {
      "cell_type": "markdown",
      "metadata": {
        "id": "BIzA8JVVltYu",
        "colab_type": "text"
      },
      "source": [
        "2: Override the `__repr__` method of your class so that when you print your class instance, it will print the results of your data_summary method."
      ]
    },
    {
      "cell_type": "code",
      "metadata": {
        "id": "HTHAJ8ZeltYu",
        "colab_type": "code",
        "colab": {
          "base_uri": "https://localhost:8080/",
          "height": 87
        },
        "outputId": "fb20452f-ab49-4e79-8dcf-dd26cc9e4ae3"
      },
      "source": [
        "print(simple)"
      ],
      "execution_count": 107,
      "outputs": [
        {
          "output_type": "stream",
          "text": [
            "X - Summary\n",
            "\tsize: 50.00, mean: 564.00, variance: 19767.83, stdev: 140.60\n",
            "Y-Summary\n",
            "\tsize: 50.00, mean: 77.63, variance: 36.04, stdev: 6.00\n"
          ],
          "name": "stdout"
        }
      ]
    },
    {
      "cell_type": "markdown",
      "metadata": {
        "id": "bc0ERJtOltY0",
        "colab_type": "text"
      },
      "source": [
        "## Part 3 - CALCULATE THE CORRELATION COEFFICIENT"
      ]
    },
    {
      "cell_type": "markdown",
      "metadata": {
        "id": "d1D64PrCltY0",
        "colab_type": "text"
      },
      "source": [
        "1: Add a method called `correlation` to your class that returns the correlation coefficient as a single value.\n",
        "\n",
        "Note that there are several ways you could get this value. You could calculate it manually using the formulas provided above, or you could use a numpy method to do so.\n",
        "\n",
        "However, many numpy methods will return a matrix of values. You will need to make sure that your method returns a scalar (single value) which represents the correlation between X and Y.\n",
        "If everything worked correctly, the answer you get should be approximately `0.8`."
      ]
    },
    {
      "cell_type": "code",
      "metadata": {
        "id": "dPMpfuNkltY0",
        "colab_type": "code",
        "colab": {
          "base_uri": "https://localhost:8080/",
          "height": 35
        },
        "outputId": "d52dd722-ffa3-4981-d285-d5b186b21c76"
      },
      "source": [
        "cor = simple.correlation()\n",
        "print(cor)"
      ],
      "execution_count": 108,
      "outputs": [
        {
          "output_type": "stream",
          "text": [
            "0.8\n"
          ],
          "name": "stdout"
        }
      ]
    }
  ]
}